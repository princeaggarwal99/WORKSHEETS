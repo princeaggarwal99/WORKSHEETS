{
 "cells": [
  {
   "cell_type": "markdown",
   "metadata": {},
   "source": [
    "# Factorial"
   ]
  },
  {
   "cell_type": "code",
   "execution_count": 1,
   "metadata": {},
   "outputs": [
    {
     "name": "stdout",
     "output_type": "stream",
     "text": [
      "6\n"
     ]
    }
   ],
   "source": [
    "def factorial(n):\n",
    "    fact=1\n",
    "    for i in range(1,n+1):\n",
    "        fact= fact * i\n",
    "    print(fact)\n",
    "\n",
    "factorial(3)    "
   ]
  },
  {
   "cell_type": "markdown",
   "metadata": {},
   "source": [
    "# Prime/Composite"
   ]
  },
  {
   "cell_type": "code",
   "execution_count": 3,
   "metadata": {},
   "outputs": [
    {
     "name": "stdout",
     "output_type": "stream",
     "text": [
      "enter a :7\n",
      "prime\n"
     ]
    }
   ],
   "source": [
    "a=int(input(\"enter a :\"))\n",
    "for i in range(2,a):\n",
    "    if a%i==1:\n",
    "        print(\"prime\")\n",
    "    elif a%i==0:\n",
    "        print(\"composite\")\n",
    "    break"
   ]
  },
  {
   "cell_type": "markdown",
   "metadata": {},
   "source": [
    "# Palindrome"
   ]
  },
  {
   "cell_type": "code",
   "execution_count": 4,
   "metadata": {},
   "outputs": [
    {
     "name": "stdout",
     "output_type": "stream",
     "text": [
      "Enter a string: ACACA\n",
      "ACACA is palindrome\n"
     ]
    }
   ],
   "source": [
    "string = input(\"Enter a string: \")\n",
    "rev = reversed(string)\n",
    "\n",
    "if list(string) == list(rev):\n",
    "    print(string, \"is palindrome\")\n",
    "else:\n",
    "    print(string, \"is not palindrome\")"
   ]
  },
  {
   "cell_type": "markdown",
   "metadata": {},
   "source": [
    "# Third side of triangle"
   ]
  },
  {
   "cell_type": "code",
   "execution_count": 5,
   "metadata": {},
   "outputs": [
    {
     "name": "stdout",
     "output_type": "stream",
     "text": [
      "Hypotenuse = 5.0\n",
      "adjacent = 4.0\n",
      "Opposite = 3.0\n"
     ]
    }
   ],
   "source": [
    "def third_side(opposite,adjacent,hypotenuse):\n",
    "        if opposite ==str('x'):\n",
    "            return (\"Opposite = \" + str(((hypotenuse**2) - (adjacent**2))**0.5))\n",
    "        elif adjacent ==str('x'):\n",
    "            return (\"adjacent = \" + str(((hypotenuse**2) - (opposite**2))**0.5))\n",
    "        elif hypotenuse ==str('x'):\n",
    "            return (\"Hypotenuse = \" + str(((opposite**2) + (adjacent**2))**0.5))\n",
    "\n",
    "print(third_side(3,4,'x'))\n",
    "print(third_side(3,'x',5))\n",
    "print(third_side('x',4,5))\n",
    "        "
   ]
  },
  {
   "cell_type": "markdown",
   "metadata": {},
   "source": [
    "# Frequency of characters "
   ]
  },
  {
   "cell_type": "code",
   "execution_count": 6,
   "metadata": {},
   "outputs": [
    {
     "name": "stdout",
     "output_type": "stream",
     "text": [
      "Enter a string: anaconda\n",
      "{'a': 3, 'n': 2, 'c': 1, 'o': 1, 'd': 1}\n"
     ]
    }
   ],
   "source": [
    "# METHOD -1\n",
    "\n",
    "string = input(\"Enter a string: \")\n",
    "  \n",
    "# using dict.get() to get count  of each element in string  \n",
    "res = {}   \n",
    "for i in string: \n",
    "    res[i] = res.get(i, 0) + 1\n",
    "print(res)\n",
    "  \n"
   ]
  },
  {
   "cell_type": "code",
   "execution_count": 7,
   "metadata": {},
   "outputs": [
    {
     "name": "stdout",
     "output_type": "stream",
     "text": [
      "Enter a string: anaconda\n",
      "Counter({'a': 3, 'n': 2, 'c': 1, 'o': 1, 'd': 1})\n"
     ]
    }
   ],
   "source": [
    "#METHOD-2\n",
    "\n",
    "from collections import Counter \n",
    "string = input(\"Enter a string: \")\n",
    "res = Counter(string) \n",
    "print(res)  "
   ]
  }
 ],
 "metadata": {
  "kernelspec": {
   "display_name": "Python 3",
   "language": "python",
   "name": "python3"
  },
  "language_info": {
   "codemirror_mode": {
    "name": "ipython",
    "version": 3
   },
   "file_extension": ".py",
   "mimetype": "text/x-python",
   "name": "python",
   "nbconvert_exporter": "python",
   "pygments_lexer": "ipython3",
   "version": "3.7.4"
  }
 },
 "nbformat": 4,
 "nbformat_minor": 2
}
