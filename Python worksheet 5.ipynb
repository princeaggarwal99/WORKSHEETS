{
 "cells": [
  {
   "cell_type": "code",
   "execution_count": 5,
   "metadata": {},
   "outputs": [
    {
     "data": {
      "text/plain": [
       "[100, 400, 900, 1600]"
      ]
     },
     "execution_count": 5,
     "metadata": {},
     "output_type": "execute_result"
    }
   ],
   "source": [
    "# 12. write a python program to square the elements of a list by using list comprehension.\n",
    "\n",
    "def square(list):\n",
    "    return [i ** 2 for i in list]\n",
    "\n",
    "l1=[10,20,30,40]\n",
    "square(list=l1)"
   ]
  },
  {
   "cell_type": "code",
   "execution_count": 8,
   "metadata": {},
   "outputs": [
    {
     "name": "stdout",
     "output_type": "stream",
     "text": [
      "[2, 4, 10, 20, 5]\n"
     ]
    }
   ],
   "source": [
    "# 13. Write a pyhton program to drop duplicate elements from a list of numbers.\n",
    "\n",
    "def remove_duplicates(list): \n",
    "    final_list = [] \n",
    "    for num in list: \n",
    "        if num not in final_list: \n",
    "            final_list.append(num) \n",
    "    return final_list \n",
    "\n",
    "l1 = [2, 4, 10, 20, 5, 2, 20, 4] \n",
    "print(remove_duplicates(list=l1)) "
   ]
  },
  {
   "cell_type": "code",
   "execution_count": 9,
   "metadata": {},
   "outputs": [
    {
     "name": "stdout",
     "output_type": "stream",
     "text": [
      "Intersection : {2, 4}\n",
      "Union : {0, 1, 2, 3, 4, 5, 6, 8}\n",
      "Difference : {0, 8, 6}\n",
      "Symmetric difference : {0, 1, 3, 5, 6, 8}\n"
     ]
    }
   ],
   "source": [
    "# 14. Take two sets of numbers and try implementing the set operations - intersection, union, difference and symmetric_difference between them.\n",
    "\n",
    "# sets  \n",
    "A = {0, 2, 4, 6, 8};\n",
    "B = {1, 2, 3, 4, 5}; \n",
    "  \n",
    "# intersection \n",
    "print(\"Intersection :\", A & B)\n",
    "\n",
    "# union \n",
    "print(\"Union :\", A | B) \n",
    "  \n",
    "# difference \n",
    "print(\"Difference :\", A - B) \n",
    "  \n",
    "# symmetric difference \n",
    "print(\"Symmetric difference :\", A ^ B)\n"
   ]
  },
  {
   "cell_type": "code",
   "execution_count": 10,
   "metadata": {},
   "outputs": [
    {
     "name": "stdout",
     "output_type": "stream",
     "text": [
      "26\n",
      "away ran she \n"
     ]
    }
   ],
   "source": [
    "# 15. Write a python program to add the elements of a set.\n",
    "\n",
    "set_num={1,2,5,8,10}\n",
    "a=0\n",
    "for i in set_num:\n",
    "  a=i+a\n",
    "print(a)\n",
    "\n",
    "set_string={'she','ran','away'}\n",
    "a=''\n",
    "for i in set_string:\n",
    "  a=i+' '+a\n",
    "print(a)\n",
    "\n"
   ]
  }
 ],
 "metadata": {
  "kernelspec": {
   "display_name": "Python 3",
   "language": "python",
   "name": "python3"
  },
  "language_info": {
   "codemirror_mode": {
    "name": "ipython",
    "version": 3
   },
   "file_extension": ".py",
   "mimetype": "text/x-python",
   "name": "python",
   "nbconvert_exporter": "python",
   "pygments_lexer": "ipython3",
   "version": "3.7.4"
  }
 },
 "nbformat": 4,
 "nbformat_minor": 2
}
