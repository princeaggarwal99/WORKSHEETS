{
 "cells": [
  {
   "cell_type": "markdown",
   "metadata": {},
   "source": [
    "# WEB SCRAPING\n",
    "WORKSHEET – 5 solutions :"
   ]
  },
  {
   "cell_type": "code",
   "execution_count": null,
   "metadata": {},
   "outputs": [],
   "source": [
    "#1. Write a python program to display all the header tags from ‘en.wikipedia.org/wiki/Main_Page’.\n",
    "\n",
    "#2. Write a python program to display IMDB’s Top rated 100 movies’ data(i.e. Name, IMDB rating, duration, director, \n",
    "#star cast - 10 main characters)\n",
    "\n",
    "#3. Write a python program to find geospatial coordinates (i.e. latitudes and longitudes) of a city name entered by user \n",
    "#from ‘www.google.co.in/maps’.\n",
    "\n",
    "#4. Write a python program to scrap book name, author name, genre and book review of 5 books from ‘www.bookpage.com’\n",
    "\n",
    "#5. Write a python program to scrap cricket rankings from ‘www.icc-cricket.com’. You have to scrap:\n",
    "#i) Top 10 ODI teams.\n",
    "#ii) Top 10 ODI Batsmen\n",
    "#iii) Top 10 ODI bowlers"
   ]
  },
  {
   "cell_type": "markdown",
   "metadata": {},
   "source": [
    "# #1. Write a python program to display all the header tags from ‘en.wikipedia.org/wiki/Main_Page’."
   ]
  },
  {
   "cell_type": "code",
   "execution_count": 37,
   "metadata": {},
   "outputs": [
    {
     "name": "stdout",
     "output_type": "stream",
     "text": [
      "List all the header tags :\n",
      "\n",
      "<h1 class=\"firstHeading\" id=\"firstHeading\" lang=\"en\">Main Page</h1>\n",
      "\n",
      "<h2 class=\"mp-h2\" id=\"mp-tfa-h2\"><span id=\"From_today.27s_featured_article\"></span><span class=\"mw-headline\" id=\"From_today's_featured_article\">From today's featured article</span></h2>\n",
      "\n",
      "<h2 class=\"mp-h2\" id=\"mp-dyk-h2\"><span class=\"mw-headline\" id=\"Did_you_know_...\">Did you know ...</span></h2>\n",
      "\n",
      "<h2 class=\"mp-h2\" id=\"mp-itn-h2\"><span class=\"mw-headline\" id=\"In_the_news\">In the news</span></h2>\n",
      "\n",
      "<h2 class=\"mp-h2\" id=\"mp-otd-h2\"><span class=\"mw-headline\" id=\"On_this_day\">On this day</span></h2>\n",
      "\n",
      "<h2 class=\"mp-h2\" id=\"mp-tfp-h2\"><span id=\"Today.27s_featured_picture\"></span><span class=\"mw-headline\" id=\"Today's_featured_picture\">Today's featured picture</span></h2>\n",
      "\n",
      "<h2 class=\"mp-h2\" id=\"mp-other\"><span class=\"mw-headline\" id=\"Other_areas_of_Wikipedia\">Other areas of Wikipedia</span></h2>\n",
      "\n",
      "<h2 class=\"mp-h2\" id=\"mp-sister\"><span id=\"Wikipedia.27s_sister_projects\"></span><span class=\"mw-headline\" id=\"Wikipedia's_sister_projects\">Wikipedia's sister projects</span></h2>\n",
      "\n",
      "<h2 class=\"mp-h2\" id=\"mp-lang\"><span class=\"mw-headline\" id=\"Wikipedia_languages\">Wikipedia languages</span></h2>\n",
      "\n",
      "<h2>Navigation menu</h2>\n",
      "\n",
      "<h3 id=\"p-personal-label\">\n",
      "<span>Personal tools</span>\n",
      "</h3>\n",
      "\n",
      "<h3 id=\"p-namespaces-label\">\n",
      "<span>Namespaces</span>\n",
      "</h3>\n",
      "\n",
      "<h3 id=\"p-variants-label\">\n",
      "<span>Variants</span>\n",
      "</h3>\n",
      "\n",
      "<h3 id=\"p-views-label\">\n",
      "<span>Views</span>\n",
      "</h3>\n",
      "\n",
      "<h3 id=\"p-cactions-label\">\n",
      "<span>More</span>\n",
      "</h3>\n",
      "\n",
      "<h3>\n",
      "<label for=\"searchInput\">Search</label>\n",
      "</h3>\n",
      "\n",
      "<h3 id=\"p-navigation-label\">\n",
      "<span>Navigation</span>\n",
      "</h3>\n",
      "\n",
      "<h3 id=\"p-interaction-label\">\n",
      "<span>Contribute</span>\n",
      "</h3>\n",
      "\n",
      "<h3 id=\"p-tb-label\">\n",
      "<span>Tools</span>\n",
      "</h3>\n",
      "\n",
      "<h3 id=\"p-coll-print_export-label\">\n",
      "<span>Print/export</span>\n",
      "</h3>\n",
      "\n",
      "<h3 id=\"p-wikibase-otherprojects-label\">\n",
      "<span>In other projects</span>\n",
      "</h3>\n",
      "\n",
      "<h3 id=\"p-lang-label\">\n",
      "<span>Languages</span>\n",
      "</h3>\n"
     ]
    }
   ],
   "source": [
    "from urllib.request import urlopen\n",
    "from bs4 import BeautifulSoup\n",
    "html = urlopen('https://en.wikipedia.org/wiki/Main_Page')\n",
    "bs = BeautifulSoup(html, \"html.parser\")\n",
    "titles = bs.find_all(['h1', 'h2','h3','h4','h5','h6'])\n",
    "print('List all the header tags :', *titles, sep='\\n\\n')"
   ]
  },
  {
   "cell_type": "markdown",
   "metadata": {},
   "source": [
    "# #2. Write a python program to display IMDB’s Top rated 100 movies’ data(i.e. Name, IMDB rating, duration, director, star cast - 10 main characters)"
   ]
  },
  {
   "cell_type": "code",
   "execution_count": 29,
   "metadata": {},
   "outputs": [],
   "source": [
    "from selenium import webdriver\n",
    "from selenium.common.exceptions import StaleElementReferenceException\n",
    "from keras.preprocessing.image import save_img\n",
    "import os\n",
    "import shutil \n",
    "import requests\n",
    "import pandas as pd \n",
    "import csv \n",
    "# function for making directory\n",
    "def make_directory(dirname):\n",
    "    current_path=os.getcwd()\n",
    "    path=os.path.join(current_path,dirname)\n",
    "    if not os.path.exists(path):\n",
    "        os.makedirs(path)\n",
    "# for downloading images:\n",
    "def save_images(data,dirname,page):\n",
    "    for index,link in enumerate(data['images']):\n",
    "        print(\"downloading {0} of {1} images\".format(index + 1, len(data['images'])))\n",
    "        response=requests.get(link)\n",
    "        with open('{0}/img_{1} {2}.jpg'.format(dirname,page,index),\"wb\") as file:\n",
    "            file.write(response.content)\n",
    "driver_path=r\"C:\\Users\\prince\\Downloads\\chromedriver_win32\\chromedriver.exe \"\n",
    "driver=webdriver.Chrome(executable_path=driver_path)"
   ]
  },
  {
   "cell_type": "code",
   "execution_count": 38,
   "metadata": {},
   "outputs": [],
   "source": [
    "imdb = driver.get('https://www.imdb.com/chart/top/?ref_=nv_mv_250')\n",
    "def scrap_data(driver):\n",
    "    product_data={}\n",
    "    \n",
    "    movie=driver.find_elements_by_xpath(\"//td[@class='titleColumn']\")\n",
    "    movie=movie[0:100]\n",
    "    rating=driver.find_elements_by_xpath(\"//td[@class='ratingColumn imdbRating']\")\n",
    "    rating=rating[0:100]\n",
    "    director=driver.find_elements_by_xpath(\"//a[@title]\")\n",
    "    director=director[4:104]\n",
    "  \n",
    "    \n",
    "    product_data['movie'] = []\n",
    "    product_data['rating'] = []\n",
    "    product_data['director'] = []\n",
    "   \n",
    "    \n",
    "    \n",
    "    \n",
    "    for elem in movie:\n",
    "        product_data['movie'].append(elem.text)\n",
    "    for elem in director:\n",
    "        product_data['director'].append(elem.get_attribute(\"title\"))\n",
    "    for elem in rating:\n",
    "        product_data['rating'].append(elem.text)\n",
    " \n",
    "    \n",
    "   \n",
    "    return product_data\n",
    "product_details=scrap_data(driver)\n",
    "def save_to_csv(data,filename):\n",
    "    df = pd.DataFrame(data)\n",
    "    df.to_csv(filename,mode='a',encoding='utf-8-sig')\n",
    "\n",
    "save_to_csv(data=product_details,filename='movies_data.csv')"
   ]
  },
  {
   "cell_type": "code",
   "execution_count": 42,
   "metadata": {},
   "outputs": [
    {
     "data": {
      "text/html": [
       "<div>\n",
       "<style scoped>\n",
       "    .dataframe tbody tr th:only-of-type {\n",
       "        vertical-align: middle;\n",
       "    }\n",
       "\n",
       "    .dataframe tbody tr th {\n",
       "        vertical-align: top;\n",
       "    }\n",
       "\n",
       "    .dataframe thead th {\n",
       "        text-align: right;\n",
       "    }\n",
       "</style>\n",
       "<table border=\"1\" class=\"dataframe\">\n",
       "  <thead>\n",
       "    <tr style=\"text-align: right;\">\n",
       "      <th></th>\n",
       "      <th>movie</th>\n",
       "      <th>rating</th>\n",
       "      <th>director</th>\n",
       "    </tr>\n",
       "  </thead>\n",
       "  <tbody>\n",
       "    <tr>\n",
       "      <td>0</td>\n",
       "      <td>1. The Shawshank Redemption (1994)</td>\n",
       "      <td>9.2</td>\n",
       "      <td>Frank Darabont (dir.), Tim Robbins, Morgan Fre...</td>\n",
       "    </tr>\n",
       "    <tr>\n",
       "      <td>1</td>\n",
       "      <td>2. The Godfather (1972)</td>\n",
       "      <td>9.1</td>\n",
       "      <td>Francis Ford Coppola (dir.), Marlon Brando, Al...</td>\n",
       "    </tr>\n",
       "    <tr>\n",
       "      <td>2</td>\n",
       "      <td>3. The Godfather: Part II (1974)</td>\n",
       "      <td>9.0</td>\n",
       "      <td>Francis Ford Coppola (dir.), Al Pacino, Robert...</td>\n",
       "    </tr>\n",
       "    <tr>\n",
       "      <td>3</td>\n",
       "      <td>4. The Dark Knight (2008)</td>\n",
       "      <td>9.0</td>\n",
       "      <td>Christopher Nolan (dir.), Christian Bale, Heat...</td>\n",
       "    </tr>\n",
       "    <tr>\n",
       "      <td>4</td>\n",
       "      <td>5. 12 Angry Men (1957)</td>\n",
       "      <td>8.9</td>\n",
       "      <td>Sidney Lumet (dir.), Henry Fonda, Lee J. Cobb</td>\n",
       "    </tr>\n",
       "    <tr>\n",
       "      <td>...</td>\n",
       "      <td>...</td>\n",
       "      <td>...</td>\n",
       "      <td>...</td>\n",
       "    </tr>\n",
       "    <tr>\n",
       "      <td>95</td>\n",
       "      <td>96. The Hunt (2012)</td>\n",
       "      <td>8.3</td>\n",
       "      <td>Thomas Vinterberg (dir.), Mads Mikkelsen, Thom...</td>\n",
       "    </tr>\n",
       "    <tr>\n",
       "      <td>96</td>\n",
       "      <td>97. Citizen Kane (1941)</td>\n",
       "      <td>8.3</td>\n",
       "      <td>Orson Welles (dir.), Orson Welles, Joseph Cotten</td>\n",
       "    </tr>\n",
       "    <tr>\n",
       "      <td>97</td>\n",
       "      <td>98. 1917 (2019)</td>\n",
       "      <td>8.3</td>\n",
       "      <td>Sam Mendes (dir.), Dean-Charles Chapman, Georg...</td>\n",
       "    </tr>\n",
       "    <tr>\n",
       "      <td>98</td>\n",
       "      <td>99. Full Metal Jacket (1987)</td>\n",
       "      <td>8.2</td>\n",
       "      <td>Stanley Kubrick (dir.), Matthew Modine, R. Lee...</td>\n",
       "    </tr>\n",
       "    <tr>\n",
       "      <td>99</td>\n",
       "      <td>100. Bicycle Thieves (1948)</td>\n",
       "      <td>8.2</td>\n",
       "      <td>Vittorio De Sica (dir.), Lamberto Maggiorani, ...</td>\n",
       "    </tr>\n",
       "  </tbody>\n",
       "</table>\n",
       "<p>100 rows × 3 columns</p>\n",
       "</div>"
      ],
      "text/plain": [
       "                                 movie  rating  \\\n",
       "0   1. The Shawshank Redemption (1994)     9.2   \n",
       "1              2. The Godfather (1972)     9.1   \n",
       "2     3. The Godfather: Part II (1974)     9.0   \n",
       "3            4. The Dark Knight (2008)     9.0   \n",
       "4               5. 12 Angry Men (1957)     8.9   \n",
       "..                                 ...     ...   \n",
       "95                 96. The Hunt (2012)     8.3   \n",
       "96             97. Citizen Kane (1941)     8.3   \n",
       "97                     98. 1917 (2019)     8.3   \n",
       "98        99. Full Metal Jacket (1987)     8.2   \n",
       "99         100. Bicycle Thieves (1948)     8.2   \n",
       "\n",
       "                                             director  \n",
       "0   Frank Darabont (dir.), Tim Robbins, Morgan Fre...  \n",
       "1   Francis Ford Coppola (dir.), Marlon Brando, Al...  \n",
       "2   Francis Ford Coppola (dir.), Al Pacino, Robert...  \n",
       "3   Christopher Nolan (dir.), Christian Bale, Heat...  \n",
       "4       Sidney Lumet (dir.), Henry Fonda, Lee J. Cobb  \n",
       "..                                                ...  \n",
       "95  Thomas Vinterberg (dir.), Mads Mikkelsen, Thom...  \n",
       "96   Orson Welles (dir.), Orson Welles, Joseph Cotten  \n",
       "97  Sam Mendes (dir.), Dean-Charles Chapman, Georg...  \n",
       "98  Stanley Kubrick (dir.), Matthew Modine, R. Lee...  \n",
       "99  Vittorio De Sica (dir.), Lamberto Maggiorani, ...  \n",
       "\n",
       "[100 rows x 3 columns]"
      ]
     },
     "execution_count": 42,
     "metadata": {},
     "output_type": "execute_result"
    }
   ],
   "source": [
    "df=pd.read_csv(\"C:/Users/prince/movies_data.csv\")\n",
    "df.drop(\"Unnamed: 0\",inplace=True,axis=1)\n",
    "df.head(100)"
   ]
  },
  {
   "cell_type": "markdown",
   "metadata": {},
   "source": [
    "# 3. Write a python program to find geospatial coordinates (i.e. latitudes and longitudes) of a city name entered by user from ‘www.google.co.in/maps’."
   ]
  },
  {
   "cell_type": "code",
   "execution_count": 46,
   "metadata": {},
   "outputs": [
    {
     "name": "stdout",
     "output_type": "stream",
     "text": [
      "Collecting geopy\n",
      "  Downloading https://files.pythonhosted.org/packages/07/e1/9c72de674d5c2b8fcb0738a5ceeb5424941fefa080bfe4e240d0bacb5a38/geopy-2.0.0-py3-none-any.whl (111kB)\n",
      "Collecting geographiclib<2,>=1.49 (from geopy)\n",
      "  Downloading https://files.pythonhosted.org/packages/8b/62/26ec95a98ba64299163199e95ad1b0e34ad3f4e176e221c40245f211e425/geographiclib-1.50-py3-none-any.whl\n",
      "Installing collected packages: geographiclib, geopy\n",
      "Successfully installed geographiclib-1.50 geopy-2.0.0\n"
     ]
    }
   ],
   "source": [
    "!pip install geopy"
   ]
  },
  {
   "cell_type": "code",
   "execution_count": 48,
   "metadata": {},
   "outputs": [
    {
     "name": "stdout",
     "output_type": "stream",
     "text": [
      "Enter city Name : delhi\n",
      "(28.6273928, 77.1716954)\n"
     ]
    }
   ],
   "source": [
    "from geopy.geocoders import Nominatim\n",
    "def geolocations():\n",
    "    address = input(\"Enter city Name : \")\n",
    "    geolocator = Nominatim(user_agent=\"Your_Name\")\n",
    "    location = geolocator.geocode(address)\n",
    "    print((location.latitude, location.longitude))\n",
    "\n",
    "geolocations()"
   ]
  },
  {
   "cell_type": "markdown",
   "metadata": {},
   "source": [
    "# 4. Write a python program to scrap book name, author name, genre and book review of 5 books from ‘www.bookpage.com’"
   ]
  },
  {
   "cell_type": "code",
   "execution_count": 50,
   "metadata": {},
   "outputs": [],
   "source": [
    "current_page_url = driver.get('https://bookpage.com/reviews')\n",
    "def scrap_image(driver):\n",
    "    product_data = {}\n",
    "    book_name = driver.find_elements_by_xpath(\"//h4[@class='italic']\")\n",
    "    author_name = driver.find_elements_by_xpath(\"//p[@class='sans bold']\")\n",
    "    genre = driver.find_elements_by_xpath(\"//p[@class='genre-links hidden-phone']\")\n",
    "    review = driver.find_elements_by_xpath(\"//p[@class='excerpt']\")\n",
    "    product_data['bookname'] = []\n",
    "    product_data['authorname'] = []\n",
    "    product_data['genre'] = []\n",
    "    product_data['review'] = []\n",
    "    \n",
    "    for bookname in book_name:\n",
    "        product_data['bookname'].append(bookname.text)\n",
    "        \n",
    "    for authorname in author_name:\n",
    "        product_data['authorname'].append(authorname.text)   \n",
    "        \n",
    "    for genre in genre:\n",
    "        product_data['genre'].append(genre.text)\n",
    "    \n",
    "    for review in review:\n",
    "        product_data['review'].append(review.text)\n",
    "    \n",
    "    return product_data\n",
    "\n",
    "BOOK = 'books'\n",
    "make_dir(BOOK)\n",
    "\n",
    "\n",
    "product_details = scrap_image(driver=driver)\n",
    "save_to_csv(data=product_details,filename='book_data.csv')"
   ]
  },
  {
   "cell_type": "code",
   "execution_count": 54,
   "metadata": {},
   "outputs": [
    {
     "data": {
      "text/html": [
       "<div>\n",
       "<style scoped>\n",
       "    .dataframe tbody tr th:only-of-type {\n",
       "        vertical-align: middle;\n",
       "    }\n",
       "\n",
       "    .dataframe tbody tr th {\n",
       "        vertical-align: top;\n",
       "    }\n",
       "\n",
       "    .dataframe thead th {\n",
       "        text-align: right;\n",
       "    }\n",
       "</style>\n",
       "<table border=\"1\" class=\"dataframe\">\n",
       "  <thead>\n",
       "    <tr style=\"text-align: right;\">\n",
       "      <th></th>\n",
       "      <th>bookname</th>\n",
       "      <th>authorname</th>\n",
       "      <th>genre</th>\n",
       "      <th>review</th>\n",
       "    </tr>\n",
       "  </thead>\n",
       "  <tbody>\n",
       "    <tr>\n",
       "      <td>0</td>\n",
       "      <td>Crow &amp; Snow</td>\n",
       "      <td>Robert Broder, Olivier Tallec</td>\n",
       "      <td>Children’s / Children’s Picture Book</td>\n",
       "      <td>NaN</td>\n",
       "    </tr>\n",
       "    <tr>\n",
       "      <td>1</td>\n",
       "      <td>Magic Dark and Strange</td>\n",
       "      <td>Kelly Powell</td>\n",
       "      <td>YA Fiction / YA</td>\n",
       "      <td>NaN</td>\n",
       "    </tr>\n",
       "    <tr>\n",
       "      <td>2</td>\n",
       "      <td>The Kidnapping Club</td>\n",
       "      <td>Jonathan Daniel Wells</td>\n",
       "      <td>Nonfiction / American History / African Americ...</td>\n",
       "      <td>Urbane and bustling, New York City is often co...</td>\n",
       "    </tr>\n",
       "    <tr>\n",
       "      <td>3</td>\n",
       "      <td>Cobble Hill</td>\n",
       "      <td>Cecily von Ziegesar</td>\n",
       "      <td>Fiction / Popular Fiction</td>\n",
       "      <td>NaN</td>\n",
       "    </tr>\n",
       "    <tr>\n",
       "      <td>4</td>\n",
       "      <td>★ The Zealot and the Emancipator</td>\n",
       "      <td>H.W. Brands</td>\n",
       "      <td>Nonfiction / History / American History</td>\n",
       "      <td>You might be forgiven for thinking that a book...</td>\n",
       "    </tr>\n",
       "  </tbody>\n",
       "</table>\n",
       "</div>"
      ],
      "text/plain": [
       "                           bookname                     authorname  \\\n",
       "0                       Crow & Snow  Robert Broder, Olivier Tallec   \n",
       "1            Magic Dark and Strange                   Kelly Powell   \n",
       "2               The Kidnapping Club          Jonathan Daniel Wells   \n",
       "3                       Cobble Hill            Cecily von Ziegesar   \n",
       "4  ★ The Zealot and the Emancipator                    H.W. Brands   \n",
       "\n",
       "                                               genre  \\\n",
       "0               Children’s / Children’s Picture Book   \n",
       "1                                    YA Fiction / YA   \n",
       "2  Nonfiction / American History / African Americ...   \n",
       "3                          Fiction / Popular Fiction   \n",
       "4            Nonfiction / History / American History   \n",
       "\n",
       "                                              review  \n",
       "0                                                NaN  \n",
       "1                                                NaN  \n",
       "2  Urbane and bustling, New York City is often co...  \n",
       "3                                                NaN  \n",
       "4  You might be forgiven for thinking that a book...  "
      ]
     },
     "execution_count": 54,
     "metadata": {},
     "output_type": "execute_result"
    }
   ],
   "source": [
    "df=pd.read_csv(\"C:/Users/prince/book_data.csv\")\n",
    "df.drop(\"Unnamed: 0\",inplace=True,axis=1)\n",
    "df.head(5)"
   ]
  },
  {
   "cell_type": "code",
   "execution_count": 55,
   "metadata": {},
   "outputs": [],
   "source": [
    "import pprint"
   ]
  },
  {
   "cell_type": "markdown",
   "metadata": {},
   "source": [
    "# 5. Write a python program to scrap cricket rankings from ‘www.icc-cricket.com’. You have to scrap:"
   ]
  },
  {
   "cell_type": "markdown",
   "metadata": {},
   "source": [
    "# i) Top 10 ODI teams."
   ]
  },
  {
   "cell_type": "code",
   "execution_count": 56,
   "metadata": {},
   "outputs": [
    {
     "name": "stdout",
     "output_type": "stream",
     "text": [
      "{'Team': ['England',\n",
      "          'India',\n",
      "          'New Zealand',\n",
      "          'Australia',\n",
      "          'South Africa',\n",
      "          'Pakistan',\n",
      "          'Bangladesh',\n",
      "          'Sri Lanka',\n",
      "          'West Indies',\n",
      "          'Afghanistan']}\n"
     ]
    }
   ],
   "source": [
    "current_page_url = driver.get('https://www.icc-cricket.com/rankings/mens/team-rankings/odi')\n",
    "\n",
    "def scrap_image(driver):\n",
    "    product_data = {}\n",
    "    team = driver.find_elements_by_xpath(\"//span[@class='u-hide-phablet']\")\n",
    "    team = team[0:10]\n",
    "    product_data['Team'] = []\n",
    "    for team in team:\n",
    "        product_data['Team'].append(team.text)\n",
    "    return product_data\n",
    "product_details = scrap_image(driver=driver)\n",
    "pprint.pprint(product_details)"
   ]
  },
  {
   "cell_type": "markdown",
   "metadata": {},
   "source": [
    "# ii) Top 10 ODI batsmen."
   ]
  },
  {
   "cell_type": "code",
   "execution_count": 58,
   "metadata": {},
   "outputs": [
    {
     "name": "stdout",
     "output_type": "stream",
     "text": [
      "{'players': ['Rohit Sharma',\n",
      "             'Babar Azam',\n",
      "             'Ross Taylor',\n",
      "             'Francois du Plessis',\n",
      "             'Kane Williamson',\n",
      "             'Aaron Finch',\n",
      "             'David Warner',\n",
      "             'Quinton de Kock',\n",
      "             'Jonny Bairstow',\n",
      "             'Jasprit Bumrah']}\n"
     ]
    }
   ],
   "source": [
    "current_page_url = driver.get('https://www.icc-cricket.com/rankings/mens/player-rankings/odi')\n",
    "\n",
    "def scrap_image(driver):\n",
    "    product_data = {}\n",
    "    team = driver.find_elements_by_xpath(\"//td[@class='table-body__cell name']\")\n",
    "    team = team[0:10]\n",
    "    product_data['players'] = []\n",
    "    for player in team:\n",
    "        product_data['players'].append(player.text)\n",
    "    return product_data\n",
    "product_details = scrap_image(driver=driver)\n",
    "pprint.pprint(product_details)"
   ]
  },
  {
   "cell_type": "markdown",
   "metadata": {},
   "source": [
    "# iii) Top 10 ODI bowlers."
   ]
  },
  {
   "cell_type": "code",
   "execution_count": 59,
   "metadata": {},
   "outputs": [
    {
     "name": "stdout",
     "output_type": "stream",
     "text": [
      "{'bowl': ['Jasprit Bumrah',\n",
      "          'Mujeeb Ur Rahman',\n",
      "          'Chris Woakes',\n",
      "          'Kagiso Rabada',\n",
      "          'Pat Cummins',\n",
      "          'Mohammad Amir',\n",
      "          'Josh Hazlewood',\n",
      "          'Matt Henry',\n",
      "          'Jofra Archer',\n",
      "          'Chris Woakes']}\n"
     ]
    }
   ],
   "source": [
    "current_page_url = driver.get('https://www.icc-cricket.com/rankings/mens/player-rankings/odi')\n",
    "\n",
    "def scrap_image(driver):\n",
    "    product_data = {}\n",
    "    bowl = driver.find_elements_by_xpath(\"//td[@class='table-body__cell name']\")\n",
    "    bowl = bowl[9:19]\n",
    "    product_data['bowl'] = []\n",
    "    for bowl in bowl:\n",
    "        product_data['bowl'].append(bowl.text)\n",
    "    return product_data\n",
    "product_details = scrap_image(driver=driver)\n",
    "pprint.pprint(product_details)"
   ]
  }
 ],
 "metadata": {
  "kernelspec": {
   "display_name": "Python 3",
   "language": "python",
   "name": "python3"
  },
  "language_info": {
   "codemirror_mode": {
    "name": "ipython",
    "version": 3
   },
   "file_extension": ".py",
   "mimetype": "text/x-python",
   "name": "python",
   "nbconvert_exporter": "python",
   "pygments_lexer": "ipython3",
   "version": "3.7.4"
  }
 },
 "nbformat": 4,
 "nbformat_minor": 2
}
